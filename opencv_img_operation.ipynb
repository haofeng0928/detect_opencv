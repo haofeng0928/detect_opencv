{
 "cells": [
  {
   "cell_type": "code",
   "execution_count": null,
   "metadata": {},
   "outputs": [],
   "source": [
    "# opencv截取并保存视频帧\n",
    "\n",
    "import cv2\n",
    "import os\n",
    "\n",
    "cap = cv2.VideoCapture('test.avi')\n",
    "c = 1\n",
    "timeF = 200 #视频帧计数间隔频率\n",
    "\n",
    "save_path = \"/home/fh/video_save/\"\n",
    "if not os.path.exists(save_path):\n",
    "    os.mkdir(save_path)\n",
    "\n",
    "if cap.isOpened():#判断是否正常打开\n",
    "\n",
    "    rval,frame = cap.read()\n",
    "    while rval:\n",
    "        rval, frame = cap.read()\n",
    "        if (c%timeF == 0):\n",
    "            cv2.imwrite(save_path + '%06d.jpg'%c, frame) # 存储为图像\n",
    "        c = c + 1\n",
    "        cv2.waitKey(1)\n",
    "else:\n",
    "    rval = False\n",
    "    \n",
    "cap.release()"
   ]
  },
  {
   "cell_type": "code",
   "execution_count": 2,
   "metadata": {},
   "outputs": [],
   "source": [
    "# 截取图像中一定区域\n",
    "import cv2\n",
    "\n",
    "img = cv2.imread('img_back.jpg')\n",
    "cv2.imshow('img', img)\n",
    "\n",
    "img = img[70:670,290:1090]\n",
    "\n",
    "cv2.imshow('img2', img)\n",
    "cv2.waitKey(0)\n",
    "cv2.destroyAllWindows()"
   ]
  }
 ],
 "metadata": {
  "kernelspec": {
   "display_name": "Python 3",
   "language": "python",
   "name": "python3"
  },
  "language_info": {
   "codemirror_mode": {
    "name": "ipython",
    "version": 3
   },
   "file_extension": ".py",
   "mimetype": "text/x-python",
   "name": "python",
   "nbconvert_exporter": "python",
   "pygments_lexer": "ipython3",
   "version": "3.6.5"
  }
 },
 "nbformat": 4,
 "nbformat_minor": 2
}
